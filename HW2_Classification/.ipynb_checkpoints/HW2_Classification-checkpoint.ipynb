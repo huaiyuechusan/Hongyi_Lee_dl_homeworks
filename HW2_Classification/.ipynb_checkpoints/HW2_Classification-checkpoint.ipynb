{
 "cells": [
  {
   "cell_type": "markdown",
   "metadata": {},
   "source": [
    "#  &#x1F4D1; **作业 2: 音位分类 (分类)**"
   ]
  },
  {
   "cell_type": "markdown",
   "metadata": {},
   "source": [
    "学习目标：\n",
    "* 数据预处理：从原始波形中提取MFCC特征\n",
    "* 分类：使用预提取的MFCC特征执行逐帧音位分类\n",
    "* 熟悉并提高pytorch训练技巧，熟悉pytorch模块\n",
    "相关资料：\n",
    "* Slides地址: https://docs.google.com/presentation/d/1v6HkBWiJb8WNDcJ9_-2kwVstxUWml87b9CnA16Gdoio/edit?usp=sharing\n",
    "* Kaggle地址: https://www.kaggle.com/c/ml2022spring-hw2\n",
    "* 相关课程视频资源也可在B站获取  "
   ]
  },
  {
   "cell_type": "markdown",
   "metadata": {},
   "source": [
    "前置知识：\n",
    "- 音位：\n",
    "\n",
    "(phonetics 语音) 音位，音素（区分单词的最小语音单位，英语sip中的s和zip中的z是两个不同的音素）  \n",
    "\n",
    "例如：Machine Learning → M AH SH IH N L ER N IH NG M M M AH AH SH SH IH IH IH N N N N ... Machine\n",
    "\n",
    "- MFCC：  \n",
    "\n",
    "在语音识别（Speech recognition）和话者识别（Speaker recognition）方面，最常用到的语音特征就是梅尔倒谱系数（Mel-scale Frequency Cepstral Coefficients, MFCC）。  \n",
    "\n",
    "根据人耳听觉机理的研究发现，人耳对不同频率的声波有不同的听觉敏感度。从200Hz到5000Hz的语音信号对语音的清晰度影响对大。两个响度不等的声音作用于人耳时，则响度较高的频率成分的存在会影响到对响度较低的频率成分的感受，使其变得不易察觉，这种现象称为掩蔽效应。由于频率较低的声音在内耳蜗基底膜上行波传递的距离（速度）大于频率较高的声音，故一般来说，低音容易掩蔽高音，而高音掩蔽低音较困难。在低频处的声音掩蔽的临界带宽较高频要小。所以，人们从低频到高频这一段频带内按临界带宽的大小由密到疏安排一组带通滤波器，对输入信号进行滤波。将每个带通滤波器输出的信号能量作为信号的基本特征，对此特征经过进一步处理后就可以作为语音的输入特征。由于这种特征不依赖于信号的性质，对输入信号不做任何的假设和限制，又利用了听觉模型的研究成果。因此，这种参数比基于声道模型的LPCC相比具有更好的鲁棒性，更符合人耳的听觉特性，而且当信噪比降低时仍然具有较好的识别性能。  \n",
    "\n",
    "在本次作业中，正常的一段音频素材可能包含大量的音位信息，而音位之间又可能存在重叠干扰的情况，因此我们将一段音频素材每隔10ms切取25ms，以此来尽可能保存完整的音位素材，取出后的素材称为一个frame，取出后的frame并不适合直接进入训练，因此我们要进行进一步的处理，通过MFCC，将它转化为一个39维度的特征，转换后为了更加精确的判断当前特征内的音位信息，我们往往采取其前后的特征来做辅助判断 也就是前向特征与后向特征各取5个，所以我们最后得到的是一个11*39维的一个向量。\n",
    "\n",
    "![](./pic/01.png) \n",
    "想要深入了解实现过程的可以查看下列链接：  \n",
    "[Prof. Hung-Yi Lee[2020Spring DLHLP] Speech Recognition](https://speech.ee.ntu.edu.tw/~tlkagk/courses/DLHLP20/ASR%20(v12).pdf)  \n",
    "[ Prof. Lin-Shan Lee’s[Introduction to Digital Speech Processing]Chap.7](http://ocw.aca.ntu.edu.tw/ntu-ocw/ocw/cou/104S204)"
   ]
  },
  {
   "cell_type": "markdown",
   "metadata": {},
   "source": [
    "#  数据集下载\n",
    "如果下列命令无法下载，可以到下列地址下载数据\n",
    "- Kaggle下载数据:  [Kaggle: ml2022spring-hw2](https://www.kaggle.com/competitions/ml2022spring-hw2)\n",
    "- 百度云下载数据: [云盘(提取码：05zc)](https://pan.baidu.com/s/198xn8Lk9MjvUsq866mZuuw)\n",
    "\n",
    "\n",
    "下载完成后，你应该能够获取如下文件：\n",
    "- `libriphone/train_split.txt`\n",
    "- `libriphone/train_labels`\n",
    "- `libriphone/test_split.txt`\n",
    "- `libriphone/feat/train/*.pt`: training feature<br>\n",
    "- `libriphone/feat/test/*.pt`:  testing feature<br>  \n",
    "\n",
    "pt文件可以使用torch.load方法导入\n",
    "\n",
    "\n",
    "<b>同学们下载完后直接解压到 HW02文件夹下面（将里面的文件最终放到HW02下）</b>"
   ]
  },
  {
   "cell_type": "code",
   "execution_count": 1,
   "metadata": {},
   "outputs": [
    {
     "name": "stderr",
     "output_type": "stream",
     "text": [
      "'wget' 不是内部或外部命令，也不是可运行的程序\n",
      "或批处理文件。\n",
      "'unzip' 不是内部或外部命令，也不是可运行的程序\n",
      "或批处理文件。\n",
      "'ls' 不是内部或外部命令，也不是可运行的程序\n",
      "或批处理文件。\n"
     ]
    }
   ],
   "source": [
    "# 下载链接\n",
    "!wget -O libriphone.zip \"https://github.com/xraychen/shiny-robot/releases/download/v1.0/libriphone.zip\"\n",
    "\n",
    "# 下列数据获取方式需要依靠gdown\n",
    "\n",
    "# 备用链接 0\n",
    "# !pip install --upgrade gdown\n",
    "# !gdown --id '1o6Ag-G3qItSmYhTheX6DYiuyNzWyHyTc' --output libriphone.zip\n",
    "\n",
    "# 备用链接 1\n",
    "# !pip install --upgrade gdown\n",
    "# !gdown --id '1R1uQYi4QpX0tBfUWt2mbZcncdBsJkxeW' --output libriphone.zip\n",
    "\n",
    "# 备用链接 2\n",
    "# !wget -O libriphone.zip \"https://www.dropbox.com/s/wqww8c5dbrl2ka9/libriphone.zip?dl=1\"\n",
    "\n",
    "# 备用链接 3\n",
    "# !wget -O libriphone.zip \"https://www.dropbox.com/s/p2ljbtb2bam13in/libriphone.zip?dl=1\"\n",
    "\n",
    "!unzip -q libriphone.zip\n",
    "!ls libriphone"
   ]
  },
  {
   "cell_type": "code",
   "execution_count": 2,
   "metadata": {},
   "outputs": [
    {
     "name": "stdout",
     "output_type": "stream",
     "text": [
      "Sat Jun 29 16:29:04 2024       \n",
      "+---------------------------------------------------------------------------------------+\n",
      "| NVIDIA-SMI 546.33                 Driver Version: 546.33       CUDA Version: 12.3     |\n",
      "|-----------------------------------------+----------------------+----------------------+\n",
      "| GPU  Name                     TCC/WDDM  | Bus-Id        Disp.A | Volatile Uncorr. ECC |\n",
      "| Fan  Temp   Perf          Pwr:Usage/Cap |         Memory-Usage | GPU-Util  Compute M. |\n",
      "|                                         |                      |               MIG M. |\n",
      "|=========================================+======================+======================|\n",
      "|   0  NVIDIA GeForce GTX 1650      WDDM  | 00000000:01:00.0  On |                  N/A |\n",
      "| N/A   42C    P8               2W /  50W |   1324MiB /  4096MiB |      2%      Default |\n",
      "|                                         |                      |                  N/A |\n",
      "+-----------------------------------------+----------------------+----------------------+\n",
      "                                                                                         \n",
      "+---------------------------------------------------------------------------------------+\n",
      "| Processes:                                                                            |\n",
      "|  GPU   GI   CI        PID   Type   Process name                            GPU Memory |\n",
      "|        ID   ID                                                             Usage      |\n",
      "|=======================================================================================|\n",
      "|    0   N/A  N/A      1812    C+G   ...t.LockApp_cw5n1h2txyewy\\LockApp.exe    N/A      |\n",
      "|    0   N/A  N/A      2596    C+G   ...5\\extracted\\runtime\\WeChatAppEx.exe    N/A      |\n",
      "|    0   N/A  N/A      2748    C+G   ...on\\wallpaper_engine\\wallpaper32.exe    N/A      |\n",
      "|    0   N/A  N/A      4036    C+G   ....Search_cw5n1h2txyewy\\SearchApp.exe    N/A      |\n",
      "|    0   N/A  N/A      8348    C+G   ...nipaste-2.7.3-Beta-x64\\Snipaste.exe    N/A      |\n",
      "|    0   N/A  N/A      9328    C+G   C:\\Windows\\explorer.exe                   N/A      |\n",
      "|    0   N/A  N/A     11784    C+G   ...2txyewy\\StartMenuExperienceHost.exe    N/A      |\n",
      "|    0   N/A  N/A     12800    C+G   ...GeForce Experience\\NVIDIA Share.exe    N/A      |\n",
      "|    0   N/A  N/A     13356    C+G   ...GeForce Experience\\NVIDIA Share.exe    N/A      |\n",
      "|    0   N/A  N/A     14136    C+G   ...crosoft\\Edge\\Application\\msedge.exe    N/A      |\n",
      "|    0   N/A  N/A     14904    C+G   ...CBS_cw5n1h2txyewy\\TextInputHost.exe    N/A      |\n",
      "|    0   N/A  N/A     17192    C+G   ...1.26.6024\\updated_web\\WXWorkWeb.exe    N/A      |\n",
      "|    0   N/A  N/A     17600    C+G   ...4\\FlutterPlugins\\FlutterPlugins.exe    N/A      |\n",
      "|    0   N/A  N/A     20508    C+G   ...6929\\office6\\promecefpluginhost.exe    N/A      |\n",
      "|    0   N/A  N/A     21136    C+G   G:\\QQ9\\QQ.exe                             N/A      |\n",
      "|    0   N/A  N/A     21944    C+G   ...siveControlPanel\\SystemSettings.exe    N/A      |\n",
      "|    0   N/A  N/A     22748    C+G   ...5n1h2txyewy\\ShellExperienceHost.exe    N/A      |\n",
      "|    0   N/A  N/A     25640    C+G   ...1.0_x64__8wekyb3d8bbwe\\Video.UI.exe    N/A      |\n",
      "|    0   N/A  N/A     26352    C+G   ...6929\\office6\\promecefpluginhost.exe    N/A      |\n",
      "|    0   N/A  N/A     27160      C   G:\\Anaconda3\\envs\\pytorch\\python.exe      N/A      |\n",
      "+---------------------------------------------------------------------------------------+\n"
     ]
    }
   ],
   "source": [
    "# 输入如下指令查看GPU状态\n",
    "!nvidia-smi"
   ]
  },
  {
   "cell_type": "markdown",
   "metadata": {},
   "source": [
    "## 准备数据"
   ]
  },
  {
   "cell_type": "markdown",
   "metadata": {},
   "source": [
    "**Helper函数用于预处理来自每个话语的原始MFCC特征的训练数据**\n",
    "\n",
    "\n",
    "一个音位可能跨越几个帧，并且取决于过去和将来的帧\n",
    "\n",
    "因此，我们连接相邻的音位进行训练以获得更高的准确性。**concat_fatte**函数连接过去和未来的k帧（总共2k+1＝n帧），我们预测中心帧。\n",
    "\n",
    "\n",
    "可以随意修改数据预处理函数，但**不要删除任何帧**（如果您修改函数，请记住检查帧的数量是否与幻灯片中提到的相同）"
   ]
  },
  {
   "cell_type": "code",
   "execution_count": 3,
   "metadata": {},
   "outputs": [],
   "source": [
    "import os\n",
    "import random\n",
    "import pandas as pd\n",
    "# 导入pytorch库，用于深度学习模型的训练和预测\n",
    "import torch\n",
    "# 导入进度条库，用于在数据加载和处理过程中显示进度\n",
    "from tqdm import tqdm\n",
    "\n",
    "# 定义导入feature的函数，用于加载特征文件\n",
    "def load_feat(path):\n",
    "    # 使用torch.load加载特征文件\n",
    "    feat = torch.load(path)\n",
    "    return feat\n",
    "\n",
    "# 定义特征平移函数，用于对特征进行上下文扩展\n",
    "def shift(x, n):\n",
    "    # 如果n小于0，则向左平移\n",
    "    if n < 0:\n",
    "        left = x[0].repeat(-n, 1)\n",
    "        right = x[:n]\n",
    "    # 如果n大于0，则向右平移\n",
    "    elif n > 0:\n",
    "        right = x[-1].repeat(n, 1)\n",
    "        left = x[n:]\n",
    "    # 如果n等于0，则不进行平移\n",
    "    else:\n",
    "        return x\n",
    "\n",
    "    # 将平移后的特征拼接起来\n",
    "    return torch.cat((left, right), dim=0)\n",
    "\n",
    "# 定义特征拼接函数，用于将上下文特征拼接在一起\n",
    "def concat_feat(x, concat_n):\n",
    "    # 断言n为奇数，保证中心位置只有一个特征\n",
    "    assert concat_n % 2 == 1  # n 必须是奇数\n",
    "    # 如果n小于2，则直接返回原特征\n",
    "    if concat_n < 2:\n",
    "        return x\n",
    "    # 获取序列长度和特征维度\n",
    "    seq_len, feature_dim = x.size(0), x.size(1)\n",
    "    # 将特征重复n次\n",
    "    x = x.repeat(1, concat_n) \n",
    "    # 将特征转换为三维张量\n",
    "    x = x.view(seq_len, concat_n, feature_dim).permute(1, 0, 2)  # concat_n, seq_len, feature_dim\n",
    "    # 计算中间位置\n",
    "    mid = (concat_n // 2)\n",
    "    # 对中间位置两侧的特征进行平移\n",
    "    for r_idx in range(1, mid+1):\n",
    "        x[mid + r_idx, :] = shift(x[mid + r_idx], r_idx)\n",
    "        x[mid - r_idx, :] = shift(x[mid - r_idx], -r_idx)\n",
    "\n",
    "    # 将特征转换为二维张量\n",
    "    return x.permute(1, 0, 2).view(seq_len, concat_n * feature_dim)\n",
    "\n",
    "# 定义数据预处理函数，用于加载数据集并进行预处理\n",
    "def preprocess_data(split, feat_dir, phone_path, concat_nframes, train_ratio=0.8, train_val_seed=1337):\n",
    "    # 定义类别数量\n",
    "    class_num = 41  # NOTE: 预先计算，不需要更改\n",
    "    # 根据split参数确定数据集模式\n",
    "    mode = 'train' if (split == 'train' or split == 'val') else 'test'\n",
    "\n",
    "    # 定义标签字典，用于存储每个文件的标签\n",
    "    label_dict = {}\n",
    "    # 如果模式不为测试，则读取标签文件\n",
    "    if mode != 'test':\n",
    "        phone_file = open(os.path.join(phone_path, f'{mode}_labels.txt')).readlines()\n",
    "\n",
    "        for line in phone_file:\n",
    "            line = line.strip('\\n').split(' ')\n",
    "            label_dict[line[0]] = [int(p) for p in line[1:]]\n",
    "\n",
    "    # 如果split参数为训练或验证，则分割训练和验证数据\n",
    "    if split == 'train' or split == 'val':\n",
    "        # 读取训练分割文件\n",
    "        usage_list = open(os.path.join(phone_path, 'train_split.txt')).readlines()\n",
    "        # 设置随机种子，保证数据分割的可重复性\n",
    "        random.seed(train_val_seed)\n",
    "        # 随机打乱数据列表\n",
    "        random.shuffle(usage_list)\n",
    "        # 根据train_ratio计算训练集和验证集的大小\n",
    "        percent = int(len(usage_list) * train_ratio)\n",
    "        # 分割训练集和验证集\n",
    "        usage_list = usage_list[:percent] if split == 'train' else usage_list[percent:]\n",
    "    # 如果split参数为测试，则读取测试数据列表\n",
    "    elif split == 'test':\n",
    "        usage_list = open(os.path.join(phone_path, 'test_split.txt')).readlines()\n",
    "    else:\n",
    "        # 如果split参数无效，则抛出异常\n",
    "        raise ValueError('Invalid \\'split\\' argument for dataset: PhoneDataset!')\n",
    "\n",
    "    # 清除列表中的换行符\n",
    "    usage_list = [line.strip('\\n') for line in usage_list]\n",
    "    # 打印数据集信息\n",
    "    print('[Dataset] - # phone classes: ' + str(class_num) + ', number of utterances for ' + split + ': ' + str(len(usage_list)))\n",
    "\n",
    "    # 定义最大长度\n",
    "    max_len = 3000000\n",
    "    # 初始化一个足够大的张量来存储所有特征，大小为最大长度乘以每帧特征的数量（39 * concat_nframes）\n",
    "    X = torch.empty(max_len, 39 * concat_nframes)\n",
    "    # 如果模式不是测试，则初始化一个同样大小的张量来存储所有标签\n",
    "    if mode != 'test':\n",
    "        y = torch.empty(max_len, dtype=torch.long)\n",
    "    \n",
    "    # 初始化索引变量，用于跟踪当前填充到的位置\n",
    "    idx = 0\n",
    "    # 遍历数据列表，使用tqdm显示进度条\n",
    "    for i, fname in tqdm(enumerate(usage_list)):\n",
    "        # 加载当前文件的特征\n",
    "        feat = load_feat(os.path.join(feat_dir, mode, f'{fname}.pt'))\n",
    "        # 获取加载的特征的长度\n",
    "        cur_len = len(feat)\n",
    "        # 将当前特征与上下文特征进行拼接\n",
    "        feat = concat_feat(feat, concat_nframes)\n",
    "        # 如果模式不是测试，则获取当前文件的标签\n",
    "        if mode != 'test':\n",
    "            label = torch.LongTensor(label_dict[fname])\n",
    "    \n",
    "        # 将拼接后的特征复制到X张量的当前索引位置\n",
    "        X[idx: idx + cur_len, :] = feat\n",
    "        # 如果模式不是测试，则将标签复制到y张量的当前索引位置\n",
    "        if mode != 'test':\n",
    "            y[idx: idx + cur_len] = label\n",
    "    \n",
    "        # 更新索引变量，指向下一个可填充的位置\n",
    "        idx += cur_len\n",
    "    \n",
    "    # 截断X和y张量，只保留实际填充的数据\n",
    "    X = X[:idx, :]\n",
    "    if mode != 'test':\n",
    "        y = y[:idx]\n",
    "    \n",
    "    # 打印当前数据集的信息\n",
    "    print(f'[INFO] {split} set')\n",
    "    print(X.shape)\n",
    "    # 如果模式不是测试，则打印标签的形状\n",
    "    if mode != 'test':\n",
    "        print(y.shape)\n",
    "        # 返回处理后的特征和标签\n",
    "        return X, y\n",
    "    else:\n",
    "        # 如果模式是测试，则只返回特征\n",
    "        return X\n",
    "    # 返回的X代表数据的维度，如果不链接则为39 如果链接即为n*39 n为连接的特征总数,y为标签"
   ]
  },
  {
   "cell_type": "markdown",
   "metadata": {},
   "source": [
    "## 定义数据集"
   ]
  },
  {
   "cell_type": "code",
   "execution_count": 4,
   "metadata": {},
   "outputs": [],
   "source": [
    "import torch\n",
    "# 导入数据集模块，用于自定义数据集\n",
    "from torch.utils.data import Dataset\n",
    "# 导入数据加载工具模块，用于加载数据集\n",
    "from torch.utils.data import DataLoader\n",
    "\n",
    "# 定义一个数据集类LibriDataset，继承自Dataset\n",
    "# 这个LibriDataset类是自定义的PyTorch数据集，用于处理和提供音频数据及其标签（如果提供）。\n",
    "# 它可以用于加载和迭代LibriSpeech数据集，其中__getitem__方法用于获取每个样本（数据和标签），而__len__方法用于返回数据集的大小。\n",
    "class LibriDataset(Dataset):\n",
    "    # 初始化方法，接收数据特征X和标签y（如果有的话）\n",
    "    def __init__(self, X, y=None):\n",
    "        # 将数据特征赋值给实例变量\n",
    "        self.data = X\n",
    "        # 如果标签y不是None，则将标签转换为LongTensor并赋值给实例变量\n",
    "        if y is not None:\n",
    "            self.label = torch.LongTensor(y)\n",
    "        else:\n",
    "            # 如果没有标签，则将实例变量label设置为None\n",
    "            self.label = None\n",
    "\n",
    "    # 定义获取数据集中单个元素的方法\n",
    "    def __getitem__(self, idx):\n",
    "        # 根据索引idx获取数据特征\n",
    "        data_item = self.data[idx]\n",
    "        # 如果有标签，则同时获取对应的标签\n",
    "        if self.label is not None:\n",
    "            label_item = self.label[idx]\n",
    "            # 返回数据和标签\n",
    "            return data_item, label_item\n",
    "        else:\n",
    "            # 如果没有标签，则只返回数据\n",
    "            return data_item\n",
    "\n",
    "    # 定义获取数据集长度的方法\n",
    "    def __len__(self):\n",
    "        # 返回数据集的长度\n",
    "        return len(self.data)"
   ]
  },
  {
   "cell_type": "markdown",
   "metadata": {},
   "source": [
    "#  &#x2728; 神经网络模型\n",
    "<font color=darkred><b>***TODO***: 使用近似相同数量的参数实现2个模型，（A）一个更窄和更深（例如hidden_layers=6，hidden_dim＝1024）和（B）另一个更宽和更浅（例如 hidden_layers＝2、hidden_dim＝1700）。报告两种模型的训练/验证精度。</font></b>"
   ]
  },
  {
   "cell_type": "markdown",
   "metadata": {},
   "source": [
    "<font color=darkred><b>***TODO***:  添加dropout层，并报告dropout率分别等于（A）0.25/（B）0.5/（C）0.75的训练/验证准确性。</font></b>"
   ]
  },
  {
   "cell_type": "markdown",
   "metadata": {},
   "source": [
    "Dropout层在神经网络层当中是用来干什么的呢？它是一种可以用于减少神经网络过拟合的结构。\n",
    "![](./pic/02.png)   \n",
    "如上图我们定义的网络,一共有四个输入x_i，一个输出y。Dropout则是在每一个batch的训练当中随机减掉一些神经元，而作为编程者，我们可以设定每一层dropout（将神经元去除的的多少）的概率，在设定之后，就可以得到第一个batch进行训练的结果：  \n",
    "![](./pic/03.png)   \n",
    "从上图我们可以看到一些神经元之间断开了连接，因此它们被dropout了！dropout顾名思义就是被拿掉的意思，正因为我们在神经网络当中拿掉了一些神经元，所以才叫做dropout层。\n",
    "在进行第一个batch的训练时，有以下步骤：\n",
    "* 设定每一个神经网络层进行dropout的概率\n",
    "* 根据相应的概率拿掉一部分的神经元，然后开始训练，更新没有被拿掉神经元以及权重的参数，将其保留\n",
    "* 参数全部更新之后，又重新根据相应的概率拿掉一部分神经元，然后开始训练，如果新用于训练的神经元已经在第一次当中训练过，那么我们继续更新它的参数。而第二次被剪掉的神经元，同时第一次已经更新过参数的，我们保留它的权重，不做修改，直到第n次batch进行dropout时没有将其删除。"
   ]
  },
  {
   "cell_type": "markdown",
   "metadata": {},
   "source": [
    "PS: 上面的两个TODO是可以改进其他部分来提高你的成绩的方法。  \n",
    "如下的策略是助教给出的几个优化方式：  \n",
    "● (1%) Simple baseline: 0.45797 (sample code)  \n",
    "● (1%) Medium baseline: 0.69747 (concat n frames, add layers)  \n",
    "● (1%) Strong baseline: 0.75028 (concat n, batchnorm, dropout, add layers)  \n",
    "● (1%) Boss baseline: 0.82324 (sequence-labeling(using RNN))  \n",
    "对于boss baseline，您可以参考RNN之前的课程记录"
   ]
  },
  {
   "cell_type": "code",
   "execution_count": 5,
   "metadata": {},
   "outputs": [],
   "source": [
    "import torch\n",
    "import torch.nn as nn\n",
    "import torch.nn.functional as F\n",
    "# 定义基本的神经网络块BasicBlock，它是一个全连接层后面跟着ReLU激活函数\n",
    "class BasicBlock(nn.Module):  # 继承自torch.nn.Module\n",
    "    def __init__(self, input_dim, output_dim):\n",
    "        super(BasicBlock, self).__init__()  # 调用父类的初始化方法\n",
    "\n",
    "        # 定义神经网络块，包含一个全连接层和一个ReLU激活函数\n",
    "        self.block = nn.Sequential(\n",
    "            nn.Linear(input_dim, output_dim),  # 输入维度到输出维度的全连接层\n",
    "            nn.ReLU(),  # ReLU激活函数\n",
    "        )\n",
    "\n",
    "    def forward(self, x):  # 定义前向传播方法\n",
    "        x = self.block(x)  # 将输入x通过定义的神经网络块\n",
    "        return x\n",
    "\n",
    "# 定义分类器网络Classifier，它由多个BasicBlock组成，最后是一个全连接层\n",
    "class Classifier(nn.Module):\n",
    "    def __init__(self, input_dim, output_dim=41, hidden_layers=1, hidden_dim=256):\n",
    "        super(Classifier, self).__init__()  # 调用父类的初始化方法\n",
    "\n",
    "        # 定义神经网络的结构，首先是一个BasicBlock，然后是多个隐藏层BasicBlock，最后是一个输出层\n",
    "        self.fc = nn.Sequential(\n",
    "            BasicBlock(input_dim, hidden_dim),  # 输入层到第一个隐藏层的BasicBlock\n",
    "            *([BasicBlock(hidden_dim, hidden_dim) for _ in range(hidden_layers)]),  # *[]用于解包列表，创建多个隐藏层\n",
    "            nn.Linear(hidden_dim, output_dim)  # 最后的全连接层，从最后一个隐藏层到输出层\n",
    "        )\n",
    "\n",
    "    def forward(self, x):  # 定义前向传播方法\n",
    "        x = self.fc(x)  # 将输入x通过定义的神经网络结构\n",
    "        return x\n",
    "\n",
    "# 这个Classifier类定义了一个简单的全连接神经网络，用于分类任务。\n",
    "# 它包含一个输入层、一个或多个隐藏层（数量和大小可配置）以及一个输出层。\n",
    "# 每个隐藏层都是BasicBlock的实例，输出层是一个线性层。"
   ]
  },
  {
   "cell_type": "markdown",
   "metadata": {},
   "source": [
    "## 超参数定义"
   ]
  },
  {
   "cell_type": "markdown",
   "metadata": {},
   "source": [
    "<font color=darkred><b>***TODO***:  可以考虑进一步优化超参数来提高准确率。</font></b>"
   ]
  },
  {
   "cell_type": "code",
   "execution_count": 6,
   "metadata": {},
   "outputs": [],
   "source": [
    "# data prarameters\n",
    "# 用于数据处理时的参数\n",
    "concat_nframes = 1              # 要连接的帧数,n必须为奇数（总共2k+1=n帧）\n",
    "train_ratio = 0.8               # 用于训练的数据比率，其余数据将用于验证\n",
    "# training parameters\n",
    "# 训练过程中的参数\n",
    "seed = 0                        # 随机种子\n",
    "batch_size = 512                # 批次数目\n",
    "num_epoch = 5                   # 训练epoch数\n",
    "learning_rate = 0.0001          # 学习率\n",
    "model_path = './model.ckpt'     # 选择保存检查点的路径（即下文调用保存模型函数的保存位置）\n",
    "# model parameters\n",
    "# 模型参数\n",
    "input_dim = 39 * concat_nframes # 模型的输入维度，不应更改该值，这个值由上面的拼接函数决定\n",
    "hidden_layers = 1               # hidden_layer层的数量\n",
    "hidden_dim = 256                # 隐藏维度"
   ]
  },
  {
   "cell_type": "markdown",
   "metadata": {},
   "source": [
    "## 准备数据与模型"
   ]
  },
  {
   "cell_type": "code",
   "execution_count": 7,
   "metadata": {},
   "outputs": [
    {
     "name": "stdout",
     "output_type": "stream",
     "text": [
      "[Dataset] - # phone classes: 41, number of utterances for train: 3428\n"
     ]
    },
    {
     "name": "stderr",
     "output_type": "stream",
     "text": [
      "3428it [00:03, 1004.06it/s]\n"
     ]
    },
    {
     "name": "stdout",
     "output_type": "stream",
     "text": [
      "[INFO] train set\n",
      "torch.Size([2116368, 39])\n",
      "torch.Size([2116368])\n",
      "[Dataset] - # phone classes: 41, number of utterances for val: 858\n"
     ]
    },
    {
     "name": "stderr",
     "output_type": "stream",
     "text": [
      "858it [00:00, 971.03it/s]\n"
     ]
    },
    {
     "name": "stdout",
     "output_type": "stream",
     "text": [
      "[INFO] val set\n",
      "torch.Size([527790, 39])\n",
      "torch.Size([527790])\n"
     ]
    }
   ],
   "source": [
    "# 引入gc模块进行垃圾回收\n",
    "import gc\n",
    "\n",
    "# 预处理数据\n",
    "train_X, train_y = preprocess_data(split='train', feat_dir='./libriphone/feat', phone_path='./libriphone', concat_nframes=concat_nframes, train_ratio=train_ratio)\n",
    "val_X, val_y = preprocess_data(split='val', feat_dir='./libriphone/feat', phone_path='./libriphone', concat_nframes=concat_nframes, train_ratio=train_ratio)\n",
    "\n",
    "# 将数据导入\n",
    "train_set = LibriDataset(train_X, train_y)\n",
    "val_set = LibriDataset(val_X, val_y)\n",
    "\n",
    "# 删除原始数据以节省内存\n",
    "del train_X, train_y, val_X, val_y\n",
    "gc.collect()\n",
    "\n",
    "# 利用dataloader加载数据\n",
    "train_loader = DataLoader(train_set, batch_size=batch_size, shuffle=True)\n",
    "val_loader = DataLoader(val_set, batch_size=batch_size, shuffle=False)"
   ]
  },
  {
   "cell_type": "code",
   "execution_count": 8,
   "metadata": {},
   "outputs": [
    {
     "name": "stdout",
     "output_type": "stream",
     "text": [
      "DEVICE: cuda:0\n"
     ]
    }
   ],
   "source": [
    "# 检查当前是否有可用的GPU 否则使用CPU\n",
    "device = 'cuda:0' if torch.cuda.is_available() else 'cpu'\n",
    "print(f'DEVICE: {device}')"
   ]
  },
  {
   "cell_type": "code",
   "execution_count": 9,
   "metadata": {},
   "outputs": [],
   "source": [
    "import numpy as np\n",
    "\n",
    "# 固定随机种子\n",
    "def same_seeds(seed): # 固定随机种子（CPU）\n",
    "    torch.manual_seed(seed) # 固定随机种子（GPU)\n",
    "    if torch.cuda.is_available():\n",
    "        torch.cuda.manual_seed(seed) # 为当前GPU设置\n",
    "        torch.cuda.manual_seed_all(seed)  # 为所有GPU设置\n",
    "    np.random.seed(seed)  # 保证后续使用random函数时，产生固定的随机数\n",
    "    torch.backends.cudnn.benchmark = False # GPU、网络结构固定，可设置为True\n",
    "    torch.backends.cudnn.deterministic = True # 固定网络结构"
   ]
  },
  {
   "cell_type": "code",
   "execution_count": 10,
   "metadata": {},
   "outputs": [],
   "source": [
    "# 固定随机种子\n",
    "same_seeds(seed)\n",
    "\n",
    "# 创建模型、定义损失函数和优化器\n",
    "model = Classifier(input_dim=input_dim, hidden_layers=hidden_layers, hidden_dim=hidden_dim).to(device)\n",
    "criterion = nn.CrossEntropyLoss() \n",
    "optimizer = torch.optim.AdamW(model.parameters(), lr=learning_rate)"
   ]
  },
  {
   "cell_type": "markdown",
   "metadata": {},
   "source": [
    "## 训练模型"
   ]
  },
  {
   "cell_type": "code",
   "execution_count": 11,
   "metadata": {},
   "outputs": [
    {
     "name": "stderr",
     "output_type": "stream",
     "text": [
      "100%|█████████████████████████████████████████████████████████████████████████████| 4134/4134 [00:24<00:00, 168.29it/s]\n",
      "100%|█████████████████████████████████████████████████████████████████████████████| 1031/1031 [00:03<00:00, 270.45it/s]\n"
     ]
    },
    {
     "name": "stdout",
     "output_type": "stream",
     "text": [
      "[001/005] Train Acc: 0.421913 Loss: 2.086644 | Val Acc: 0.440581 loss: 1.971926\n",
      "saving model with acc 0.441\n"
     ]
    },
    {
     "name": "stderr",
     "output_type": "stream",
     "text": [
      "100%|█████████████████████████████████████████████████████████████████████████████| 4134/4134 [00:21<00:00, 194.98it/s]\n",
      "100%|█████████████████████████████████████████████████████████████████████████████| 1031/1031 [00:04<00:00, 210.34it/s]\n"
     ]
    },
    {
     "name": "stdout",
     "output_type": "stream",
     "text": [
      "[002/005] Train Acc: 0.449024 Loss: 1.934470 | Val Acc: 0.449734 loss: 1.926857\n",
      "saving model with acc 0.450\n"
     ]
    },
    {
     "name": "stderr",
     "output_type": "stream",
     "text": [
      "100%|█████████████████████████████████████████████████████████████████████████████| 4134/4134 [00:22<00:00, 184.33it/s]\n",
      "100%|█████████████████████████████████████████████████████████████████████████████| 1031/1031 [00:04<00:00, 212.63it/s]\n"
     ]
    },
    {
     "name": "stdout",
     "output_type": "stream",
     "text": [
      "[003/005] Train Acc: 0.455070 Loss: 1.904343 | Val Acc: 0.453828 loss: 1.908872\n",
      "saving model with acc 0.454\n"
     ]
    },
    {
     "name": "stderr",
     "output_type": "stream",
     "text": [
      "100%|█████████████████████████████████████████████████████████████████████████████| 4134/4134 [00:22<00:00, 184.95it/s]\n",
      "100%|█████████████████████████████████████████████████████████████████████████████| 1031/1031 [00:04<00:00, 243.26it/s]\n"
     ]
    },
    {
     "name": "stdout",
     "output_type": "stream",
     "text": [
      "[004/005] Train Acc: 0.458388 Loss: 1.887978 | Val Acc: 0.456020 loss: 1.896504\n",
      "saving model with acc 0.456\n"
     ]
    },
    {
     "name": "stderr",
     "output_type": "stream",
     "text": [
      "100%|█████████████████████████████████████████████████████████████████████████████| 4134/4134 [00:21<00:00, 189.30it/s]\n",
      "100%|█████████████████████████████████████████████████████████████████████████████| 1031/1031 [00:04<00:00, 225.30it/s]"
     ]
    },
    {
     "name": "stdout",
     "output_type": "stream",
     "text": [
      "[005/005] Train Acc: 0.460761 Loss: 1.876417 | Val Acc: 0.457811 loss: 1.889774\n",
      "saving model with acc 0.458\n"
     ]
    },
    {
     "name": "stderr",
     "output_type": "stream",
     "text": [
      "\n"
     ]
    }
   ],
   "source": [
    "# 定义最佳准确率best_acc初始为0.0\n",
    "best_acc = 0.0\n",
    "\n",
    "# 循环遍历指定的训练周期num_epoch\n",
    "for epoch in range(num_epoch):\n",
    "    # 初始化训练集和验证集的准确率和损失\n",
    "    train_acc = 0.0\n",
    "    train_loss = 0.0\n",
    "    val_acc = 0.0\n",
    "    val_loss = 0.0\n",
    "    \n",
    "    # 训练部分\n",
    "    # 设置模型到训练模式\n",
    "    model.train()\n",
    "    # 遍历train_loader中的每个批次\n",
    "    for i, batch in enumerate(tqdm(train_loader)):\n",
    "        # 获取当前批次的数据和标签\n",
    "        features, labels = batch\n",
    "        # 将特征和标签移动到指定的device上\n",
    "        features = features.to(device)\n",
    "        labels = labels.to(device)\n",
    "        \n",
    "        # 重置优化器的梯度\n",
    "        optimizer.zero_grad() \n",
    "        # 计算模型输出\n",
    "        outputs = model(features) \n",
    "        # 计算损失\n",
    "        loss = criterion(outputs, labels)\n",
    "        # 执行反向传播\n",
    "        loss.backward() \n",
    "        # 执行优化器步骤\n",
    "        optimizer.step() \n",
    "        \n",
    "        # 获取概率最高的类的索引\n",
    "        _, train_pred = torch.max(outputs, 1) \n",
    "        # 计算训练集的准确率\n",
    "        train_acc += (train_pred.detach() == labels.detach()).sum().item()\n",
    "        # 累加损失\n",
    "        train_loss += loss.item()\n",
    "    \n",
    "    # 验证部分\n",
    "    # 如果存在验证集val_set\n",
    "    if len(val_set) > 0:\n",
    "        # 设置模型到评估模式\n",
    "        model.eval()\n",
    "        # 遍历val_loader中的每个批次\n",
    "        with torch.no_grad():\n",
    "            for i, batch in enumerate(tqdm(val_loader)):\n",
    "                # 获取当前批次的数据和标签\n",
    "                features, labels = batch\n",
    "                # 将特征和标签移动到指定的device上\n",
    "                features = features.to(device)\n",
    "                labels = labels.to(device)\n",
    "                # 计算模型输出\n",
    "                outputs = model(features)\n",
    "                # 计算损失\n",
    "                loss = criterion(outputs, labels) \n",
    "                # 获取概率最高的类的索引\n",
    "                _, val_pred = torch.max(outputs, 1) \n",
    "                # 计算验证集的准确率\n",
    "                val_acc += (val_pred.cpu() == labels.cpu()).sum().item()\n",
    "                # 累加损失\n",
    "                val_loss += loss.item()\n",
    "\n",
    "            # 打印每个周期的训练和验证准确率及损失\n",
    "            print('[{:03d}/{:03d}] Train Acc: {:3.6f} Loss: {:3.6f} | Val Acc: {:3.6f} loss: {:3.6f}'.format(\n",
    "                epoch + 1, num_epoch, train_acc/len(train_set), train_loss/len(train_loader), val_acc/len(val_set), val_loss/len(val_loader)\n",
    "            ))\n",
    "\n",
    "            # 如果验证准确率超过了当前最佳准确率\n",
    "            if val_acc > best_acc:\n",
    "                # 更新最佳准确率\n",
    "                best_acc = val_acc\n",
    "                # 保存模型的状态到指定的路径\n",
    "                torch.save(model.state_dict(), model_path)\n",
    "                # 打印保存模型的信息\n",
    "                print('saving model with acc {:.3f}'.format(best_acc/len(val_set)))\n",
    "    else:\n",
    "        # 如果没有验证集，则只打印训练准确率及损失\n",
    "        print('[{:03d}/{:03d}] Train Acc: {:3.6f} Loss: {:3.6f}'.format(\n",
    "            epoch + 1, num_epoch, train_acc/len(train_set), train_loss/len(train_loader)\n",
    "        ))\n",
    "\n",
    "    # 如果结束验证，则保存最后一个epoch得到的模型\n",
    "    if len(val_set) == 0:\n",
    "        torch.save(model.state_dict(), model_path)\n",
    "        print('saving model at last epoch')"
   ]
  },
  {
   "cell_type": "code",
   "execution_count": 12,
   "metadata": {},
   "outputs": [
    {
     "data": {
      "text/plain": [
       "0"
      ]
     },
     "execution_count": 12,
     "metadata": {},
     "output_type": "execute_result"
    }
   ],
   "source": [
    "del train_loader, val_loader\n",
    "gc.collect()"
   ]
  },
  {
   "cell_type": "markdown",
   "metadata": {},
   "source": [
    "## 测试\n",
    "创建测试数据集，并从保存的检查点加载模型。"
   ]
  },
  {
   "cell_type": "code",
   "execution_count": 13,
   "metadata": {},
   "outputs": [
    {
     "name": "stdout",
     "output_type": "stream",
     "text": [
      "[Dataset] - # phone classes: 41, number of utterances for test: 1078\n"
     ]
    },
    {
     "name": "stderr",
     "output_type": "stream",
     "text": [
      "1078it [00:01, 1012.06it/s]"
     ]
    },
    {
     "name": "stdout",
     "output_type": "stream",
     "text": [
      "[INFO] test set\n",
      "torch.Size([646268, 39])\n"
     ]
    },
    {
     "name": "stderr",
     "output_type": "stream",
     "text": [
      "\n"
     ]
    }
   ],
   "source": [
    "# 载入数据\n",
    "test_X = preprocess_data(split='test', feat_dir='./libriphone/feat', phone_path='./libriphone', concat_nframes=concat_nframes)\n",
    "test_set = LibriDataset(test_X, None)\n",
    "test_loader = DataLoader(test_set, batch_size=batch_size, shuffle=False)"
   ]
  },
  {
   "cell_type": "code",
   "execution_count": 14,
   "metadata": {},
   "outputs": [
    {
     "data": {
      "text/plain": [
       "<All keys matched successfully>"
      ]
     },
     "execution_count": 14,
     "metadata": {},
     "output_type": "execute_result"
    }
   ],
   "source": [
    "# 加载已经训练好的模型\n",
    "model = Classifier(input_dim=input_dim, hidden_layers=hidden_layers, hidden_dim=hidden_dim).to(device)\n",
    "model.load_state_dict(torch.load(model_path))"
   ]
  },
  {
   "cell_type": "code",
   "execution_count": 15,
   "metadata": {},
   "outputs": [
    {
     "name": "stderr",
     "output_type": "stream",
     "text": [
      "100%|█████████████████████████████████████████████████████████████████████████████| 1263/1263 [00:03<00:00, 331.29it/s]\n"
     ]
    }
   ],
   "source": [
    "# 定义测试集的准确率为0.0\n",
    "test_acc = 0.0\n",
    "# 定义测试集的长度为0\n",
    "test_lengths = 0\n",
    "# 初始化一个空的整数数组pred，用于存储预测的类别索引\n",
    "pred = np.array([], dtype=np.int32)\n",
    "\n",
    "# 将模型设置为评估模式\n",
    "model.eval()\n",
    "\n",
    "# 使用torch.no_grad上下文管理器，确保在测试过程中不计算梯度\n",
    "with torch.no_grad():\n",
    "    # 遍历test_loader中的每个批次\n",
    "    for i, batch in enumerate(tqdm(test_loader)):\n",
    "        # 获取当前批次的数据\n",
    "        features = batch\n",
    "        # 将特征移动到指定的device上\n",
    "        features = features.to(device)\n",
    "\n",
    "        # 计算模型在当前批次上的输出\n",
    "        outputs = model(features)\n",
    "\n",
    "        # 使用torch.max找到每个样本的概率最高的类别索引\n",
    "        _, test_pred = torch.max(outputs, 1)\n",
    "\n",
    "        # 将当前批次的预测结果与之前的预测结果合并\n",
    "        pred = np.concatenate((pred, test_pred.cpu().numpy()), axis=0)"
   ]
  },
  {
   "cell_type": "markdown",
   "metadata": {},
   "source": [
    "将预测结果写入CSV文件。"
   ]
  },
  {
   "cell_type": "code",
   "execution_count": 16,
   "metadata": {},
   "outputs": [],
   "source": [
    "with open('prediction.csv', 'w') as f:\n",
    "    f.write('Id,Class\\n')\n",
    "    for i, y in enumerate(pred):\n",
    "        f.write('{},{}\\n'.format(i, y))"
   ]
  },
  {
   "cell_type": "markdown",
   "metadata": {},
   "source": [
    "# 参考文献：  \n",
    "[一文入门dropout层](https://www.cnblogs.com/geeksongs/p/13446980.html)  \n",
    "李宏毅机器学习2022在线课程"
   ]
  },
  {
   "cell_type": "markdown",
   "metadata": {},
   "source": [
    "# 贡献者  \n",
    "潘笃驿(panduyi_azula@foxmail.com)"
   ]
  }
 ],
 "metadata": {
  "kernelspec": {
   "display_name": "Python 3 (ipykernel)",
   "language": "python",
   "name": "python3"
  },
  "language_info": {
   "codemirror_mode": {
    "name": "ipython",
    "version": 3
   },
   "file_extension": ".py",
   "mimetype": "text/x-python",
   "name": "python",
   "nbconvert_exporter": "python",
   "pygments_lexer": "ipython3",
   "version": "3.9.19"
  },
  "vscode": {
   "interpreter": {
    "hash": "5da60e2a9548b1451378568c9bbd9389177ea512d36b61a0763bf3d806b69d96"
   }
  }
 },
 "nbformat": 4,
 "nbformat_minor": 4
}
