


import torch





x = torch.randn(4,5)
y = torch.randn(4,5)
z = torch.randn(4,5)
print(x)
print(y)
print(z)


# 1. max of entire tensor (torch.max(input) → Tensor)
m = torch.max(x)
print(m)


# 2. max along a dimension (torch.max(input, dim, keepdim=False, *, out=None) → (Tensor, LongTensor))
m, idx = torch.max(x,0)
print(m)
print(idx)


m, idx = torch.max(x,1)
print(m)
print(idx)


# 2-2    位置参数可以不指定参数的名字，关键字参数必须指定参数名字。以 * 隔开，（位置参数 * 关键字参数）
m, idx = torch.max(input=x,dim=0)
print(m)
print(idx)


# 2-3
m, idx = torch.max(x,0,False)
print(m)
print(idx)


# 2-4
m, idx = torch.max(x,dim=0,keepdim=True)
print(m)
print(idx)


# 2-5
p = (m,idx)
torch.max(x,0,False,out=p)
print(p[0])
print(p[1])


# 2-6
p = (m,idx)
torch.max(x,0,False,p)  # 位置参数可以不指定参数的名字，关键字参数必须指定参数名字。
print(p[0])
print(p[1])


# 2-7
m, idx = torch.max(x,True)  # did not specify dim


# 3. max(choose max) operators on two tensors (torch.max(input, other, *, out=None) → Tensor)
t = torch.max(x,y)
print(t)








import torch


# 1. different device error
model = torch.nn.Linear(5,1).to("cuda:0")
x = torch.randn(5).to("cpu")
y = model(x)


# 1. different device error (fixed)
x = torch.randn(5).to("cuda:0")
y = model(x)
print(y.shape)


# 2. mismatched dimensions error 1
x = torch.randn(4,5)
y = torch.randn(5,4)
z = x + y


# 2. mismatched dimensions error 1 (fixed by transpose)
y = y.transpose(0,1)
z = x + y
print(z.shape)


# 3. cuda out of memory error
import torch
import torchvision.models as models
resnet18 = models.resnet18().to("cuda:0") # Neural Networks for Image Recognition
data = torch.randn(2048,3,244,244) # Create fake data (512 images)
out = resnet18(data.to("cuda:0"))  # Use Data as Input and Feed to Model
print(out.shape)


# 3. cuda out of memory error (fixed, but it might take some time to execute)
for d in data:
  out = resnet18(d.to("cuda:0").unsqueeze(0))
print(out.shape)


# 4. mismatched tensor type
import torch.nn as nn
L = nn.CrossEntropyLoss()
outs = torch.randn(5,5)
labels = torch.Tensor([1,2,3,4,0])
lossval = L(outs,labels) # Calculate CrossEntropyLoss between outs and labels


# 4. mismatched tensor type (fixed)
labels = labels.long()
lossval = L(outs,labels)
print(lossval)











dataset = "abcdefghijklmnopqrstuvwxyz"





for datapoint in dataset:
  print(datapoint)











import torch
import torch.utils.data 
class ExampleDataset(torch.utils.data.Dataset):
  def __init__(self):
    self.data = "abcdefghijklmnopqrstuvwxyz"
  
  def __getitem__(self,idx): # if the index is idx, what will be the data?
    return self.data[idx]
  
  def __len__(self): # What is the length of the dataset
    return len(self.data)

dataset1 = ExampleDataset() # create the dataset
dataloader = torch.utils.data.DataLoader(
                        dataset = dataset1, 
                        shuffle = True, 
                        batch_size = 1
              )
for datapoint in dataloader:
  print(datapoint)





import torch.utils.data 
class ExampleDataset(torch.utils.data.Dataset):
  def __init__(self):
    self.data = "abcdefghijklmnopqrstuvwxyz"
  
  def __getitem__(self,idx): # if the index is idx, what will be the data?
    if idx >= len(self.data): # if the index >= 26, return upper case letter
      return self.data[idx%26].upper()
    else: # if the index < 26, return lower case, return lower case letter
      return self.data[idx]
  
  def __len__(self): # What is the length of the dataset
    return 2 * len(self.data) # The length is now twice as large

dataset1 = ExampleDataset() # create the dataset
dataloader = torch.utils.data.DataLoader(dataset = dataset1,shuffle = True,batch_size = 1)
for datapoint in dataloader:
  print(datapoint)
