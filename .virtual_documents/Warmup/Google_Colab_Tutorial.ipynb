








import torch
torch.cuda.is_available() # is GPU available
# Outputs True if running with GPU


# check allocated GPU type
!nvidia-smi





# Download the file with file_id "sUr1x-GhJ_80vIGzVGEqFUSDYfwV50YW", and rename it to pikachu.png
!gdown --id '1sUr1x-GhJ_80vIGzVGEqFUSDYfwV50YW' --output pikachu.png


# List all the files under the working directory
!ls

















from google.colab import drive
drive.mount('/content/drive')








%cd /content/drive/MyDrive 
#change directory to google drive
!mkdir ML2022 #make a directory named ML2022
%cd ./ML2022 
#change directory to ML2022





!pwd #output the current directory





!gdown --id '1sUr1x-GhJ_80vIGzVGEqFUSDYfwV50YW' --output pikachu.png






